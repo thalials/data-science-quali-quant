{
 "cells": [
  {
   "cell_type": "markdown",
   "metadata": {},
   "source": [
    "Projeto 1 - Ciência dos Dados"
   ]
  },
  {
   "cell_type": "markdown",
   "metadata": {},
   "source": [
    "Nome: Thalia Loiola Silva"
   ]
  },
  {
   "cell_type": "markdown",
   "metadata": {},
   "source": [
    "# Pergunta a ser respondida:"
   ]
  },
  {
   "cell_type": "markdown",
   "metadata": {},
   "source": [
    "* A taxa de empregabilidade de países que pertencem à Organização para a Cooperação e Desenvolvimento Econômico (OCDE) aumenta de acordo com uma educação primária qualificada?"
   ]
  },
  {
   "cell_type": "markdown",
   "metadata": {},
   "source": [
    "# Explicação da hipótese:"
   ]
  },
  {
   "cell_type": "markdown",
   "metadata": {},
   "source": [
    "   A Organização para Cooperação e Desenvolvimento Econômico - OCDE - como o próprio nome sugere, oferece um ambiente onde 36 países podem comparar experiências políticas, buscar respostas para problemas comuns, identificar boas práticas e coordenar políticas domésticas e internacionais. Nesse contexto, vale ressaltar que esses fatores são fontes de uma valiosa crescente na economia dos países que estão inseridos nesse meio. \n",
    "   \n",
    "   De acordo com o site da OCDE, em inglês OECD, e com o site do Word Population, os 10 países reconhecidos com a melhor educação no mundo (dados coletados de 2018), pertencem à OCDE. Nesse contexto, nota-se que uma economia bem-sucedida é consideravelmente influenciada pelo nível de investimento em educação. Portanto, é razoável dizer que esses os países pertencentes à organização, após a entrada, tenham sofrido impactos no meio educacional.\n",
    "   \n",
    "   \n",
    "   Fontes:\n",
    "   \n",
    "   Word Population: \n",
    "   http://worldpopulationreview.com/countries/education-rankings-by-country/\n",
    "   \n",
    "   OCDE: \n",
    "   https://www.oecd.org/about/members-and-partners/\n",
    "           \n",
    "   "
   ]
  },
  {
   "cell_type": "markdown",
   "metadata": {},
   "source": [
    "# Países pertencentes à OCDE"
   ]
  },
  {
   "cell_type": "markdown",
   "metadata": {},
   "source": [
    "A seguir, a lista de todos os países que compõem a OCDE e seus respectivos anos de entrada à organização:\n",
    "\n",
    "\n",
    "* Austrália (1971)\n",
    "* Áustria (1961)\n",
    "* Bélgica (1961)\n",
    "* Canadá (1961)\n",
    "* Chile (2010)\n",
    "* República Checa (1995)\n",
    "* Dinamarca (1961)\n",
    "* Estônia (2010)\n",
    "* Finlândia (1969)\n",
    "* França (1961)\n",
    "* Alemanha (1995)\n",
    "* Grécia (1961) \n",
    "* Hungria (1996)\n",
    "* Islândia (1961)\n",
    "* Irlanda (1961)\n",
    "* Israel (2010)\n",
    "* Itália (1961)\n",
    "* Japão (1964)\n",
    "* Coréia (1996)\n",
    "* Letônia (2016)\n",
    "* Lituânia (2018)\n",
    "* Luxemburgo (1961)\n",
    "* México (1994)\n",
    "* Países baixos (1961) \n",
    "* Nova Zelândia\n",
    "* Noruega (1961)\n",
    "* Portugal (1961)\n",
    "* República Eslovaca (2000)\n",
    "* Eslovênia (2010)\n",
    "* Espanha (1959)\n",
    "* Suécia (1961)\n",
    "* Suíça (1961)\n",
    "* Turquia (1961)\n",
    "* Reino Unido (1961)\n",
    "* Estados Unidos (1961)\n",
    "\n",
    "\n",
    "\n"
   ]
  },
  {
   "cell_type": "markdown",
   "metadata": {},
   "source": [
    "# Base de dados:\n",
    "\n"
   ]
  },
  {
   "cell_type": "markdown",
   "metadata": {},
   "source": [
    "https://docs.google.com/spreadsheets/d/1Wus-UDcQDkxEkvAlUCccNoEBQBIeqUsb6pUJKsZQAAo/pub# : Porcentagem de conclusão da educação primária\n",
    "\n",
    "https://docs.google.com/spreadsheets/d/1jsXSKnWgsXvjYyR-4R2b9VKGh22IM70C9WQg74xK8U8/pub : Porcentagem de empregados acima de 15 anos de idade.\n",
    "\n",
    "https://www.oecd.org/about/members-and-partners/ : Países pertencentes à OCDE\n",
    "\n",
    "        "
   ]
  },
  {
   "cell_type": "code",
   "execution_count": null,
   "metadata": {},
   "outputs": [],
   "source": []
  },
  {
   "cell_type": "markdown",
   "metadata": {},
   "source": [
    "# Análise dos dados:\n"
   ]
  },
  {
   "cell_type": "markdown",
   "metadata": {},
   "source": [
    "Foram selecionados os dados referentes a porcentagem de pessoas que concluiram a educação primária nos 36 países que compõem a OCDE. Esses dados foram analisados desde 1971 à 2018, de acordo com a seguinte fonte: https://docs.google.com/spreadsheets/d/1Wus-UDcQDkxEkvAlUCccNoEBQBIeqUsb6pUJKsZQAAo/pub# ; \n",
    "\n",
    "\n",
    "Para relacionar os dados correspondentes a educação, analisou-se de que forma esses países se comportavam no quesito empregabilidade, uma vez que esse fator também auxilia no crescimento da economia. Para isso, foram coletados dados de empregados pertencentes a uma faixa etária acima de 15 anos, de 1991 à 2007.\n",
    "Fonte: https://docs.google.com/spreadsheets/d/1jsXSKnWgsXvjYyR-4R2b9VKGh22IM70C9WQg74xK8U8/pub"
   ]
  },
  {
   "cell_type": "code",
   "execution_count": 1,
   "metadata": {},
   "outputs": [],
   "source": [
    "%matplotlib inline\n",
    "import pandas as pd\n",
    "import matplotlib.pyplot as plt\n",
    "import numpy as np"
   ]
  },
  {
   "cell_type": "code",
   "execution_count": 2,
   "metadata": {},
   "outputs": [],
   "source": [
    "educacao_primaria = \"PrimaryCompletion.xlsx\"\n",
    "empregados = 'indicator_t above 15 employ - PAISES OCDE.xlsx'\n",
    "\n",
    "dados_educ = pd.read_excel(educacao_primaria, sheet_name=\"Data\", skiprows=3)\n",
    "tabela_empregados = pd.read_excel(empregados, sheet_name=\"Data\")"
   ]
  },
  {
   "cell_type": "code",
   "execution_count": 3,
   "metadata": {},
   "outputs": [],
   "source": [
    "#Mudança do index:\n",
    "\n",
    "educ_primaria = dados_educ.set_index(\"Country Name\")\n",
    "taxa_empregados = tabela_empregados.set_index(\"Total above 15 employment to population (%)\")"
   ]
  },
  {
   "cell_type": "code",
   "execution_count": 4,
   "metadata": {},
   "outputs": [],
   "source": [
    "#criar lista com os nomes dos paises pertencentes a OCDE:\n",
    "sim_OCDE_educacao = ['Australia', 'Austria', 'Belgium','Canada',\n",
    "            'Chile', 'Czech Republic', 'Estonia', 'Finland', \n",
    "            'France', 'Germany', 'Greece', 'Hungary', 'Iceland',\n",
    "            'Ireland', 'Israel', 'Italy', 'Japan', 'Korea, Rep.',\n",
    "            'Latvia', 'Lithuania', 'Luxembourg', 'Mexico', \n",
    "            'Netherlands', 'New Zealand', 'Norway', 'Poland', \n",
    "            'Portugal', 'Slovak Republic', 'Slovenia', 'Spain', \n",
    "            'Sweden', 'Switzerland', 'Turkey', 'United Kingdom',\n",
    "            'United States']\n",
    "\n",
    "educ_primaria.loc[:,\"PertenceOCDE\"] = \"não\"\n",
    "educ_primaria.loc[sim_OCDE_educacao, \"PertenceOCDE\"] = \"sim\""
   ]
  },
  {
   "cell_type": "code",
   "execution_count": 5,
   "metadata": {},
   "outputs": [
    {
     "data": {
      "text/plain": [
       "não    229\n",
       "sim     35\n",
       "Name: PertenceOCDE, dtype: int64"
      ]
     },
     "execution_count": 5,
     "metadata": {},
     "output_type": "execute_result"
    }
   ],
   "source": [
    "educ_primaria.PertenceOCDE.value_counts()"
   ]
  },
  {
   "cell_type": "code",
   "execution_count": 6,
   "metadata": {},
   "outputs": [
    {
     "ename": "NameError",
     "evalue": "name 'dict_OCDE' is not defined",
     "output_type": "error",
     "traceback": [
      "\u001b[1;31m---------------------------------------------------------------------------\u001b[0m",
      "\u001b[1;31mNameError\u001b[0m                                 Traceback (most recent call last)",
      "\u001b[1;32m<ipython-input-6-4bc1b763c9ef>\u001b[0m in \u001b[0;36m<module>\u001b[1;34m\u001b[0m\n\u001b[0;32m      1\u001b[0m \u001b[1;31m#Acrescentar a coluna de pertencimento ou não à OCDE\u001b[0m\u001b[1;33m\u001b[0m\u001b[1;33m\u001b[0m\u001b[1;33m\u001b[0m\u001b[0m\n\u001b[0;32m      2\u001b[0m \u001b[1;33m\u001b[0m\u001b[0m\n\u001b[1;32m----> 3\u001b[1;33m \u001b[0meduc_primaria\u001b[0m\u001b[1;33m[\u001b[0m\u001b[1;34m'Pertence'\u001b[0m\u001b[1;33m]\u001b[0m\u001b[1;33m=\u001b[0m \u001b[0mdict_OCDE\u001b[0m\u001b[1;33m.\u001b[0m\u001b[0mvalues\u001b[0m\u001b[1;33m(\u001b[0m\u001b[1;33m)\u001b[0m\u001b[1;33m\u001b[0m\u001b[1;33m\u001b[0m\u001b[0m\n\u001b[0m\u001b[0;32m      4\u001b[0m \u001b[1;33m\u001b[0m\u001b[0m\n\u001b[0;32m      5\u001b[0m \u001b[0meduc_primaria\u001b[0m\u001b[1;33m\u001b[0m\u001b[1;33m\u001b[0m\u001b[0m\n",
      "\u001b[1;31mNameError\u001b[0m: name 'dict_OCDE' is not defined"
     ]
    }
   ],
   "source": [
    "#Acrescentar a coluna de pertencimento ou não à OCDE\n",
    "\n",
    "educ_primaria['Pertence']= dict_OCDE.values()\n",
    "\n",
    "educ_primaria"
   ]
  },
  {
   "cell_type": "code",
   "execution_count": null,
   "metadata": {},
   "outputs": [],
   "source": [
    "#criar lista com os nomes dos paises pertencentes a OCDE:\n",
    "sim_OCDE = ['Australia', 'Austria', 'Belgium','Canada', 'Chile', 'Czech Republic', 'Estonia', 'Finland',  'France', 'Germany', 'Greece', 'Hungary', 'Iceland', 'Ireland', 'Israel', 'Italy', 'Japan', 'Korea, Rep.', 'Latvia', 'Lithuania', 'Luxembourg', 'Mexico', 'Netherlands', 'New Zealand', 'Norway', 'Poland', 'Portugal', 'Slovak Republic', 'Slovenia', 'Spain', 'Sweden', 'Switzerland', 'Turkey', 'United Kingdom', 'United States']\n",
    "dict_OCDE = {}\n",
    "\n",
    "for pais in taxa_empregados.index:\n",
    "    if pais in sim_OCDE:\n",
    "        dict_OCDE[pais] = 'sim'\n",
    "    else: \n",
    "        dict_OCDE[pais] = 'não'\n"
   ]
  },
  {
   "cell_type": "code",
   "execution_count": null,
   "metadata": {},
   "outputs": [],
   "source": [
    "sim_OCDE_empregados = ['Australia', 'Austria', 'Belgium','Canada',\n",
    "            'Chile', 'Czech Rep.', 'Estonia', 'Finland', \n",
    "            'France', 'Germany', 'Greece', 'Hungary', 'Iceland',\n",
    "            'Ireland', 'Israel', 'Italy', 'Japan', 'Korea, Rep.',\n",
    "            'Latvia', 'Lithuania', 'Luxembourg', 'Mexico', \n",
    "            'Netherlands', 'New Zealand', 'Norway', 'Poland', \n",
    "            'Portugal', 'Slovak Republic', 'Slovenia', 'Spain', \n",
    "            'Sweden', 'Switzerland', 'Turkey', 'United Kingdom',\n",
    "            'United States']\n",
    "\n",
    "taxa_empregados.loc[:,\"PertenceOCDE\"] = \"não\"\n",
    "taxa_empregados.loc[sim_OCDE_empregados, \"PertenceOCDE\"] = \"sim\""
   ]
  },
  {
   "cell_type": "code",
   "execution_count": null,
   "metadata": {
    "scrolled": true
   },
   "outputs": [],
   "source": [
    "taxa_empregados.PertenceOCDE.value_counts()"
   ]
  },
  {
   "cell_type": "code",
   "execution_count": null,
   "metadata": {
    "scrolled": true
   },
   "outputs": [],
   "source": [
    "#Acrescentar a coluna de pertencimento ou não à OCDE\n",
    "taxa_empregados['Pertencem à OCDE']= dict_OCDE.values()\n",
    "\n",
    "taxa_empregados"
   ]
  },
  {
   "cell_type": "markdown",
   "metadata": {},
   "source": [
    "# escolha de um ano para análise\n",
    "\n"
   ]
  },
  {
   "cell_type": "code",
   "execution_count": null,
   "metadata": {},
   "outputs": [],
   "source": [
    "#escolha de um ano para analise\n",
    "educacao_2000 = educ_primaria.loc[:,[2000]]\n",
    "empregados_2000 = taxa_empregados.loc[:, [2000]]"
   ]
  },
  {
   "cell_type": "code",
   "execution_count": null,
   "metadata": {},
   "outputs": [],
   "source": [
    "empregados_2000.head()"
   ]
  },
  {
   "cell_type": "code",
   "execution_count": null,
   "metadata": {},
   "outputs": [],
   "source": [
    "educacao_2000.head()"
   ]
  },
  {
   "cell_type": "code",
   "execution_count": null,
   "metadata": {},
   "outputs": [],
   "source": [
    "df = educacao_2000.join(empregados_2000, how='inner', lsuffix='_educacao', rsuffix='_empregados')\n",
    "df.head(7)"
   ]
  },
  {
   "cell_type": "code",
   "execution_count": null,
   "metadata": {},
   "outputs": [],
   "source": [
    "educ_primaria.columns"
   ]
  },
  {
   "cell_type": "code",
   "execution_count": null,
   "metadata": {},
   "outputs": [],
   "source": [
    "media_educ_primaria = educ_primaria.mean()\n",
    "anos = media_educ_primaria.index"
   ]
  },
  {
   "cell_type": "code",
   "execution_count": null,
   "metadata": {},
   "outputs": [],
   "source": [
    "media_educ_primaria.head()"
   ]
  },
  {
   "cell_type": "code",
   "execution_count": null,
   "metadata": {},
   "outputs": [],
   "source": [
    "plt.figure(figsize=(30,10))\n",
    "plt.plot(anos, media_educ_primaria)"
   ]
  },
  {
   "cell_type": "markdown",
   "metadata": {},
   "source": [
    "Nota-se, de acordo com o gráfico acima, que há uma crescente na taxa de crianças que concluiram o ensino primário quando se compara o intervalo de tempo entre o ano de 1970 e 2018."
   ]
  },
  {
   "cell_type": "code",
   "execution_count": null,
   "metadata": {},
   "outputs": [],
   "source": [
    "educ_datas = [ 1960,               1961,               1962,\n",
    "                     1963,               1964,               1965,\n",
    "                     1966,               1967,               1968,\n",
    "                     1969,               1970,               1971,\n",
    "                     1972,               1973,               1974,\n",
    "                     1975,               1976,               1977,\n",
    "                     1978,               1979,               1980,\n",
    "                     1981,               1982,               1983,\n",
    "                     1984,               1985,               1986,\n",
    "                     1987,               1988,               1989,\n",
    "                     1990,               1991,               1992,\n",
    "                     1993,               1994,               1995,\n",
    "                     1996,               1997,               1998,\n",
    "                     1999,               2000,               2001,\n",
    "                     2002,               2003,               2004,\n",
    "                     2005,               2006,               2007,\n",
    "                     2008,               2009,               2010,\n",
    "                     2011,               2012,               2013,\n",
    "                     2014,               2015,               2016,\n",
    "                     2017,               2018,]"
   ]
  },
  {
   "cell_type": "code",
   "execution_count": null,
   "metadata": {},
   "outputs": [],
   "source": [
    "educ_anos = educ_primaria.loc[:, educ_datas]"
   ]
  },
  {
   "cell_type": "code",
   "execution_count": null,
   "metadata": {},
   "outputs": [],
   "source": [
    "educ_anos_t = educ_anos.T"
   ]
  },
  {
   "cell_type": "code",
   "execution_count": null,
   "metadata": {},
   "outputs": [],
   "source": [
    "medias_educacao = educ_anos.mean()\n",
    "plt.figure(figsize=(20,10))\n",
    "for pais in educ_anos_t.columns:\n",
    "    plt.scatter(x=educ_anos_t.index, y=educ_anos_t[pais])\n",
    "plt.plot(medias_educacao.index,  medias_educacao, color=\"r\")"
   ]
  },
  {
   "cell_type": "code",
   "execution_count": null,
   "metadata": {},
   "outputs": [],
   "source": [
    "educ_primaria.boxplot(column=1996, by='OCDE')"
   ]
  },
  {
   "cell_type": "markdown",
   "metadata": {},
   "source": [
    "# Conclusão:"
   ]
  },
  {
   "cell_type": "markdown",
   "metadata": {},
   "source": [
    "De acordo com os dados observados nas tabelas, nota-se que o índice de empregabilidade dos países, de fato, cresceu, como era previsto. Isso dá-se pelo fato de que um governo que valoriza e investe na educação básica está não só comprometido com o estudante, mas com o futuro da economia do seu país correspondente."
   ]
  },
  {
   "cell_type": "code",
   "execution_count": null,
   "metadata": {},
   "outputs": [],
   "source": []
  }
 ],
 "metadata": {
  "kernelspec": {
   "display_name": "Python 3",
   "language": "python",
   "name": "python3"
  },
  "language_info": {
   "codemirror_mode": {
    "name": "ipython",
    "version": 3
   },
   "file_extension": ".py",
   "mimetype": "text/x-python",
   "name": "python",
   "nbconvert_exporter": "python",
   "pygments_lexer": "ipython3",
   "version": "3.7.1"
  }
 },
 "nbformat": 4,
 "nbformat_minor": 2
}
